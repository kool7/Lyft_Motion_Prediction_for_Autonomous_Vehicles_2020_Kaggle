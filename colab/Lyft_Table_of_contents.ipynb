{
  "nbformat": 4,
  "nbformat_minor": 0,
  "metadata": {
    "colab": {
      "name": "Lyft Table of contents.ipynb",
      "provenance": [],
      "collapsed_sections": [],
      "authorship_tag": "ABX9TyNb9WyOgsX1cD9J/4i1Cjlb",
      "include_colab_link": true
    },
    "kernelspec": {
      "name": "python3",
      "display_name": "Python 3"
    }
  },
  "cells": [
    {
      "cell_type": "markdown",
      "metadata": {
        "id": "view-in-github",
        "colab_type": "text"
      },
      "source": [
        "<a href=\"https://colab.research.google.com/github/kool7/Lyft_Motion_Prediction_for_Autonomous_Vehicles_2020_Kaggle/blob/master/colab/Lyft_Table_of_contents.ipynb\" target=\"_parent\"><img src=\"https://colab.research.google.com/assets/colab-badge.svg\" alt=\"Open In Colab\"/></a>"
      ]
    },
    {
      "cell_type": "markdown",
      "metadata": {
        "id": "bD1MeybERN5c",
        "colab_type": "text"
      },
      "source": [
        "# Table of contents <a name='0.1'></a>\n",
        "\n",
        "- [0. Introduction](#0)\n",
        "\n",
        "- [1. Import Packages](#1)\n",
        "\n",
        "- [2. Utility Functions](#2)\n",
        "- [3. Basic EDA](#3)\n",
        "    - [3.1 Data Formats](#3-1)\n",
        "        - [3.1.1 Introduction](#3-1-1)\n",
        "        - [3.1.2 Zarr Format](#3-1-2)\n",
        "    - [3.2 Checking Configuration Fields](#3-2)\n",
        "    - [3.3 Loading Data](#3-3)\n",
        "    - [3.4 Raw Data Overview](#3-4)\n",
        "    - [3.5 Dataset Package](#3-5)\n",
        "    - [3.6 Visualize Autonomous Vehicle](#3-6)\n",
        "        - [3.6.1 Visualizing Various Rasterizer Objects](#3-6-1)  \n",
        "        - [3.6.2 Visualize Trajectory: Semantic View](#3-6-2)\n",
        "        - [3.6.3 Visualize Trajectory: Satellite View](#3-6-3)\n",
        "        - [3.6.4 Visualize Agent](#3-6-4)\n",
        "        - [3.6.5 Visualize Individual Scene: Semantic](#3-6-5)\n",
        "        - [3.6.6 Visualize Individual Scene: Satellite](#3-6-6)\n",
        "        \n",
        "- [4. Pytorch Baseline](#4)\n",
        "    - [4.1 Configuration](#4-1)\n",
        "    - [4.2 Loading Training Data](#4-2)\n",
        "    - [4.3 Training DataLoader](#4-3)\n",
        "    - [4.4 Model: resnet50 (Pytorch)](#4-4)\n",
        "    - [4.5 Compilation](#4-5)\n",
        "    - [4.6 Training](#4-6)\n",
        "    \n",
        "- [5. Prediction and Results](#5)\n",
        "    - [5.1 Test DataLoader](#5-1)\n",
        "    - [5.2 Getting Predictions](#5-2)\n",
        "    - [5.2 Submission](#5-3)\n",
        "    \n",
        "- [6. Reference](#6)"
      ]
    },
    {
      "cell_type": "markdown",
      "metadata": {
        "id": "ADCUNhl0R6jM",
        "colab_type": "text"
      },
      "source": [
        "# **0. Introduction** <a name='0'></a>\n",
        "# **1. Import Packages** <a name='1'></a>\n",
        "# **2. Utility Functions** <a name='2'></a>\n",
        "# **3. Basic EDA** <a name='3'></a>\n",
        "## **3.1 Data Format** <a name='3-1'></a>\n",
        "### **3.1.1 Introduction** <a name='3-1-1'></a>\n",
        "### **3.1.2 Zarr Format** <a name='3-1-2'></a>\n",
        "## **3.2 Checking Configuration Fields** <a name='3-2'></a>\n",
        "## **3.3 Load Data** <a name='3-3'></a>\n",
        "## **3.4 Raw Data Format** <a name='3-4'></a>\n",
        "## **3.5 Dataset Packages** <a name='3-5'></a>\n",
        "## **3.6 Visualize Autonomous Vehicles** <a name='3-6'></a>\n",
        "### **3.6.1 Visualizing Various Rasterizer Objects**<a name='3-6-1'></a>\n",
        "### **3.6.2 Visualize Trajectory: Semantic View**<a name='3-6-2'></a>\n",
        "### **3.6.3 Visualize Trajectory: Satellite View**<a name='3-6-3'></a>\n",
        "### **3.6.4 Visualize Agent**<a name='3-6-4'></a>\n",
        "### **3.6.5 Visualize Individual Scene: Semantic**<a name='3-6-5'></a>\n",
        "### **3.6.6 Visualize Individual Scene: Satellite**<a name='3-6-6'></a>\n",
        "[Table of Contents](#0.1)"
      ]
    },
    {
      "cell_type": "code",
      "metadata": {
        "id": "e13xEFzLas4A",
        "colab_type": "code",
        "colab": {}
      },
      "source": [
        ""
      ],
      "execution_count": null,
      "outputs": []
    }
  ]
}