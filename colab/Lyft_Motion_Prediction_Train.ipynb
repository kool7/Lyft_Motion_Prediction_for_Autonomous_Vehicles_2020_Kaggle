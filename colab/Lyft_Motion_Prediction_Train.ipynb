{
  "nbformat": 4,
  "nbformat_minor": 0,
  "metadata": {
    "colab": {
      "name": "Lyft Motion Prediction Train.ipynb",
      "provenance": [],
      "collapsed_sections": [],
      "toc_visible": true,
      "mount_file_id": "1HT6gwTOKorD9_hxAB-UsFvpbngxRaYXH",
      "authorship_tag": "ABX9TyPsvVDpmL1hoXce1xgGzcge",
      "include_colab_link": true
    },
    "kernelspec": {
      "name": "python3",
      "display_name": "Python 3"
    },
    "accelerator": "GPU"
  },
  "cells": [
    {
      "cell_type": "markdown",
      "metadata": {
        "id": "view-in-github",
        "colab_type": "text"
      },
      "source": [
        "<a href=\"https://colab.research.google.com/github/kool7/Lyft_Motion_Prediction_for_Autonomous_Vehicles_2020_Kaggle/blob/master/colab/Lyft_Motion_Prediction_Train.ipynb\" target=\"_parent\"><img src=\"https://colab.research.google.com/assets/colab-badge.svg\" alt=\"Open In Colab\"/></a>"
      ]
    },
    {
      "cell_type": "code",
      "metadata": {
        "id": "f5dIn9OSe0JD",
        "colab_type": "code",
        "colab": {}
      },
      "source": [
        "import os \n",
        "\n",
        "os.makedirs('/content/lyft-motion-prediction-autonomous-vehicles/', exist_ok=True)\n",
        "os.chdir('/content/lyft-motion-prediction-autonomous-vehicles/')\n",
        "\n",
        "%cd '/content/lyft-motion-prediction-autonomous-vehicles/'\n",
        "!pwd"
      ],
      "execution_count": 6,
      "outputs": []
    },
    {
      "cell_type": "code",
      "metadata": {
        "id": "kYJYU5dOWJmt",
        "colab_type": "code",
        "colab": {}
      },
      "source": [
        "os.makedirs('/content/lyft-motion-prediction-autonomous-vehicles/scenes/', exist_ok=True)\n",
        "os.chdir('/content/lyft-motion-prediction-autonomous-vehicles/scenes/')\n",
        "\n",
        "!wget --header=\"Host: storage.googleapis.com\" --header=\"User-Agent: Mozilla/5.0 (Windows NT 10.0; Win64; x64) AppleWebKit/537.36 (KHTML, like Gecko) Chrome/84.0.4147.125 Safari/537.36\" --header=\"Accept: text/html,application/xhtml+xml,application/xml;q=0.9,image/webp,image/apng,*/*;q=0.8,application/signed-exchange;v=b3;q=0.9\" --header=\"Accept-Language: en-US,en;q=0.9\" --header=\"Referer: https://www.kaggle.com/\" --header=\"Cookie: _ga=GA1.3.1723755215.1594569279\" --header=\"Connection: keep-alive\" \"https://storage.googleapis.com/kaggle-competitions-data/kaggle-v2/19990/1472735/compressed/scenes.zip?GoogleAccessId=web-data@kaggle-161607.iam.gserviceaccount.com&Expires=1598865619&Signature=K6DsZz1qgin5fv8TMaTVg124%2FXRHRDgCOMeB4TimJIl%2F5hvXQo8T9OnVwqJ5LeeoXWvMTmyF7JFWK1EOlPx3mGKHT7Ofilnf7nSeHxIDxRO6QxjtDfMtJ3DQeTNeyIlAHJVqErjSEozQYCT6FM9sH8c%2B8yPx2hTl9qtiB92ISGUjmIKGsx%2BUIfQC6OfDxlyQa%2BO1edlpy6MFCHZkSJCYFsbbUYaoZYLbPKramldw%2Bn5TgmsCd%2F95r7PWEfjkZ2Niv26aROi6eSM3tHcygmZT3%2BOJPmXj%2FSJkGDRV3DdTsq8Ho%2F4z7CwFBa5U4Kihmp%2BG060mz5V%2BZoqj0LR9SEzbww%3D%3D&response-content-disposition=attachment%3B+filename%3Dscenes.zip\" -c -O 'scenes.zip'\n",
        "!unzip ./scenes.zip"
      ],
      "execution_count": null,
      "outputs": []
    },
    {
      "cell_type": "code",
      "metadata": {
        "id": "nDTTBkSYnQk5",
        "colab_type": "code",
        "colab": {
          "base_uri": "https://localhost:8080/",
          "height": 67
        },
        "outputId": "d11b5a6f-0bfa-4980-a576-92054b4f6b90"
      },
      "source": [
        "%cd '/content/lyft-motion-prediction-autonomous-vehicles/scenes/'\n",
        "!pwd\n",
        "!ls"
      ],
      "execution_count": 3,
      "outputs": [
        {
          "output_type": "stream",
          "text": [
            "/content\n",
            "/content/lyft-motion-prediction-autonomous-vehicles/scenes\n",
            "mask.npz  sample.zarr  scenes.zip  test.zarr  train.zarr  validate.zarr\n"
          ],
          "name": "stdout"
        }
      ]
    },
    {
      "cell_type": "code",
      "metadata": {
        "id": "-uOOmLVQb3-p",
        "colab_type": "code",
        "colab": {}
      },
      "source": [
        "%rm -r validate.zarr/\n",
        "%rm -r sample.zarr/\n",
        "%rm scenes.zip"
      ],
      "execution_count": 4,
      "outputs": []
    },
    {
      "cell_type": "code",
      "metadata": {
        "id": "y9GXTTKEnuhr",
        "colab_type": "code",
        "colab": {
          "base_uri": "https://localhost:8080/",
          "height": 67
        },
        "outputId": "8ae56dea-4f75-4a4b-f0a7-ee8c18864f5f"
      },
      "source": [
        "%cd ..\n",
        "!pwd\n",
        "!ls"
      ],
      "execution_count": 5,
      "outputs": [
        {
          "output_type": "stream",
          "text": [
            "/content/lyft-motion-prediction-autonomous-vehicles\n",
            "/content/lyft-motion-prediction-autonomous-vehicles\n",
            "scenes\n"
          ],
          "name": "stdout"
        }
      ]
    },
    {
      "cell_type": "code",
      "metadata": {
        "id": "Uqv0XMvneh4y",
        "colab_type": "code",
        "colab": {}
      },
      "source": [
        "os.makedirs('/content/lyft-motion-prediction-autonomous-vehicles/aerial_map/', exist_ok=True)\n",
        "os.chdir('/content/lyft-motion-prediction-autonomous-vehicles/aerial_map/')\n",
        "\n",
        "!wget --header=\"Host: storage.googleapis.com\" --header=\"User-Agent: Mozilla/5.0 (Windows NT 10.0; Win64; x64) AppleWebKit/537.36 (KHTML, like Gecko) Chrome/84.0.4147.125 Safari/537.36\" --header=\"Accept: text/html,application/xhtml+xml,application/xml;q=0.9,image/webp,image/apng,*/*;q=0.8,application/signed-exchange;v=b3;q=0.9\" --header=\"Accept-Language: en-US,en;q=0.9\" --header=\"Referer: https://www.kaggle.com/\" --header=\"Cookie: _ga=GA1.3.1723755215.1594569279\" --header=\"Connection: keep-alive\" \"https://storage.googleapis.com/kaggle-competitions-data/kaggle-v2/19990/1472735/compressed/aerial_map.zip?GoogleAccessId=web-data@kaggle-161607.iam.gserviceaccount.com&Expires=1598867413&Signature=YBvVVAxzxbJhAIRNIfNklh2Qo%2By0kR8JggS33fKtpx%2BtO2LClR5e6OmRZ2g2UGsbmpMPAiuoZKwiL6vZqSh%2BJvnbbdTXrB%2BJphbDvWP6u3oc9udleGsHZKvJ4HLZvfdGF7%2B6Kpy8bVKwfyb4PrNrfSc4Q41%2BoAoGvCLFLG2onatz3QhgORhzlWfMqrbm1MY3KG4%2BZB5%2B3L0cJs2yKSfMclc89TkPTmORBMkSoNugfOGryEeru9qMyYRqL3kuUUliULfHrAnQB6q3F7R9u%2BNSuVEIViElfXlcdGVl79DC%2FNHawimzZ%2B%2BQcXIiI1fXC8w%2BhIiVnGZTYFqHd8hjSKQQfQ%3D%3D&response-content-disposition=attachment%3B+filename%3Daerial_map.zip\" -c -O 'aerial_map.zip'\n",
        "!unzip ./aerial_map.zip"
      ],
      "execution_count": null,
      "outputs": []
    },
    {
      "cell_type": "code",
      "metadata": {
        "id": "QpwJf6yAoFBz",
        "colab_type": "code",
        "colab": {}
      },
      "source": [
        "%rm -r aerial_map.zip"
      ],
      "execution_count": 7,
      "outputs": []
    },
    {
      "cell_type": "code",
      "metadata": {
        "id": "5-b2FzK1hty7",
        "colab_type": "code",
        "colab": {
          "base_uri": "https://localhost:8080/",
          "height": 67
        },
        "outputId": "78aa8934-0be7-4389-887e-d850d77cfc61"
      },
      "source": [
        "%cd ..\n",
        "!pwd\n",
        "!ls"
      ],
      "execution_count": 8,
      "outputs": [
        {
          "output_type": "stream",
          "text": [
            "/content/lyft-motion-prediction-autonomous-vehicles\n",
            "/content/lyft-motion-prediction-autonomous-vehicles\n",
            "aerial_map  scenes\n"
          ],
          "name": "stdout"
        }
      ]
    },
    {
      "cell_type": "code",
      "metadata": {
        "id": "GS5DjtPogOox",
        "colab_type": "code",
        "colab": {
          "base_uri": "https://localhost:8080/",
          "height": 289
        },
        "outputId": "62905c63-f5c2-4364-dc49-621d9b72a659"
      },
      "source": [
        "os.makedirs('/content/lyft-motion-prediction-autonomous-vehicles/semantic_map/', exist_ok=True)\n",
        "os.chdir('/content/lyft-motion-prediction-autonomous-vehicles/semantic_map/')\n",
        "\n",
        "!wget --header=\"Host: storage.googleapis.com\" --header=\"User-Agent: Mozilla/5.0 (Windows NT 10.0; Win64; x64) AppleWebKit/537.36 (KHTML, like Gecko) Chrome/84.0.4147.125 Safari/537.36\" --header=\"Accept: text/html,application/xhtml+xml,application/xml;q=0.9,image/webp,image/apng,*/*;q=0.8,application/signed-exchange;v=b3;q=0.9\" --header=\"Accept-Language: en-US,en;q=0.9\" --header=\"Referer: https://www.kaggle.com/\" --header=\"Cookie: _ga=GA1.3.1723755215.1594569279\" --header=\"Connection: keep-alive\" \"https://storage.googleapis.com/kaggle-competitions-data/kaggle-v2/19990/1472735/upload/semantic_map.zip?GoogleAccessId=web-data@kaggle-161607.iam.gserviceaccount.com&Expires=1598867848&Signature=Hz%2F6RINYOAsBvD7sZF72nQnm5obsWKtzFrrK4%2FQePMEkQki9R5aSobiVGj8TijXWMJIRek%2F6o28k1cp4ld6TArQ9v%2F78hwCVjRN49YD3qQ3DBmNCUjSiYmp3FH5SeClQfjGQiydyPiaA3qaf3%2Bt3dHsvyUYwxmlmpPnF07vLu%2FcgVGhMQS3PS%2BJ1Ml0dhX7rP7i23zxsmQnc7Szr6mmolyd%2FoPRdBB9hXrHa5vc0axWIg3P44sqamtuVr9V0wF%2FHT9Zrsidc6sKOLnL9tGS%2BWYHS%2FWU58yVSgPUr%2FdOLCi2t7RUI8adP4YqQxa%2Bfle6zloLoeJCIibhroGTWyT2niQ%3D%3D&response-content-disposition=attachment%3B+filename%3Dsemantic_map.zip\" -c -O 'semantic_map.zip'\n",
        "!unzip ./semantic_map.zip"
      ],
      "execution_count": 9,
      "outputs": [
        {
          "output_type": "stream",
          "text": [
            "--2020-08-29 07:00:56--  https://storage.googleapis.com/kaggle-competitions-data/kaggle-v2/19990/1472735/upload/semantic_map.zip?GoogleAccessId=web-data@kaggle-161607.iam.gserviceaccount.com&Expires=1598867848&Signature=Hz%2F6RINYOAsBvD7sZF72nQnm5obsWKtzFrrK4%2FQePMEkQki9R5aSobiVGj8TijXWMJIRek%2F6o28k1cp4ld6TArQ9v%2F78hwCVjRN49YD3qQ3DBmNCUjSiYmp3FH5SeClQfjGQiydyPiaA3qaf3%2Bt3dHsvyUYwxmlmpPnF07vLu%2FcgVGhMQS3PS%2BJ1Ml0dhX7rP7i23zxsmQnc7Szr6mmolyd%2FoPRdBB9hXrHa5vc0axWIg3P44sqamtuVr9V0wF%2FHT9Zrsidc6sKOLnL9tGS%2BWYHS%2FWU58yVSgPUr%2FdOLCi2t7RUI8adP4YqQxa%2Bfle6zloLoeJCIibhroGTWyT2niQ%3D%3D&response-content-disposition=attachment%3B+filename%3Dsemantic_map.zip\n",
            "Resolving storage.googleapis.com (storage.googleapis.com)... 108.177.111.128, 173.194.194.128, 172.217.212.128, ...\n",
            "Connecting to storage.googleapis.com (storage.googleapis.com)|108.177.111.128|:443... connected.\n",
            "HTTP request sent, awaiting response... 200 OK\n",
            "Length: 2065996 (2.0M) [application/zip]\n",
            "Saving to: ‘semantic_map.zip’\n",
            "\n",
            "semantic_map.zip    100%[===================>]   1.97M  --.-KB/s    in 0.02s   \n",
            "\n",
            "2020-08-29 07:00:56 (116 MB/s) - ‘semantic_map.zip’ saved [2065996/2065996]\n",
            "\n",
            "Archive:  ./semantic_map.zip\n",
            "  inflating: feedback.txt            \n",
            "  inflating: semantic_map.pb         \n",
            "  inflating: LICENSE                 \n"
          ],
          "name": "stdout"
        }
      ]
    },
    {
      "cell_type": "code",
      "metadata": {
        "id": "w7u2MvWjg89Y",
        "colab_type": "code",
        "colab": {
          "base_uri": "https://localhost:8080/",
          "height": 67
        },
        "outputId": "3f690af5-798a-4acd-89ba-5c9b09680ea1"
      },
      "source": [
        "%rm -r semantic_map.zip\n",
        "%cd ..\n",
        "!pwd\n",
        "!ls"
      ],
      "execution_count": 10,
      "outputs": [
        {
          "output_type": "stream",
          "text": [
            "/content/lyft-motion-prediction-autonomous-vehicles\n",
            "/content/lyft-motion-prediction-autonomous-vehicles\n",
            "aerial_map  scenes  semantic_map\n"
          ],
          "name": "stdout"
        }
      ]
    },
    {
      "cell_type": "code",
      "metadata": {
        "id": "R4Rede1XYUhD",
        "colab_type": "code",
        "colab": {
          "base_uri": "https://localhost:8080/",
          "height": 202
        },
        "outputId": "1ef72683-ac5a-49b1-c3eb-aff79a0904f3"
      },
      "source": [
        "## this script transports l5kit and dependencies\n",
        "!pip -q install pymap3d==2.1.0 \n",
        "!pip -q install protobuf==3.12.2 \n",
        "!pip -q install transforms3d \n",
        "!pip -q install zarr \n",
        "!pip -q install ptable\n",
        "\n",
        "!pip -q install --no-dependencies l5kit"
      ],
      "execution_count": 11,
      "outputs": [
        {
          "output_type": "stream",
          "text": [
            "  Building wheel for pymap3d (setup.py) ... \u001b[?25l\u001b[?25hdone\n",
            "\u001b[K     |████████████████████████████████| 1.3MB 3.5MB/s \n",
            "\u001b[K     |████████████████████████████████| 71kB 2.3MB/s \n",
            "\u001b[?25h  Building wheel for transforms3d (setup.py) ... \u001b[?25l\u001b[?25hdone\n",
            "\u001b[K     |████████████████████████████████| 3.3MB 3.5MB/s \n",
            "\u001b[K     |████████████████████████████████| 3.8MB 33.7MB/s \n",
            "\u001b[?25h  Building wheel for zarr (setup.py) ... \u001b[?25l\u001b[?25hdone\n",
            "  Building wheel for asciitree (setup.py) ... \u001b[?25l\u001b[?25hdone\n",
            "  Building wheel for numcodecs (setup.py) ... \u001b[?25l\u001b[?25hdone\n",
            "  Building wheel for ptable (setup.py) ... \u001b[?25l\u001b[?25hdone\n",
            "\u001b[K     |████████████████████████████████| 81kB 2.4MB/s \n",
            "\u001b[?25h"
          ],
          "name": "stdout"
        }
      ]
    },
    {
      "cell_type": "code",
      "metadata": {
        "id": "-7-v3HwMX39P",
        "colab_type": "code",
        "colab": {}
      },
      "source": [
        "# import packages\n",
        "from google.colab import files\n",
        "import numpy as np\n",
        "import torch\n",
        "import gc\n",
        "\n",
        "from torch import nn, optim\n",
        "from torch.utils.data import DataLoader\n",
        "from torchvision.models.resnet import resnet18, resnet34\n",
        "from tqdm import tqdm\n",
        "from typing import Dict\n",
        "\n",
        "from l5kit.data import LocalDataManager, ChunkedDataset\n",
        "from l5kit.dataset import AgentDataset, EgoDataset\n",
        "from l5kit.rasterization import build_rasterizer"
      ],
      "execution_count": 1,
      "outputs": []
    },
    {
      "cell_type": "code",
      "metadata": {
        "id": "dPJkdw7pb9YA",
        "colab_type": "code",
        "colab": {}
      },
      "source": [
        "INPUT_DIR = '/content/lyft-motion-prediction-autonomous-vehicles/'"
      ],
      "execution_count": 2,
      "outputs": []
    },
    {
      "cell_type": "code",
      "metadata": {
        "id": "MD-y8isTdQ04",
        "colab_type": "code",
        "colab": {}
      },
      "source": [
        "cfg = {\n",
        "    'format_version': 4,\n",
        "    'model_params': {\n",
        "        'model_architecture': 'resnet34',\n",
        "        'history_num_frames': 10,\n",
        "        'history_step_size': 1,\n",
        "        'history_delta_time': 0.1,\n",
        "        'future_num_frames': 50,\n",
        "        'future_step_size': 1,\n",
        "        'future_delta_time': 0.1\n",
        "    },\n",
        "\n",
        "    'raster_params': {\n",
        "        'raster_size': [300, 300],\n",
        "        'pixel_size': [0.5, 0.5],\n",
        "        'ego_center': [0.25, 0.5],\n",
        "        'map_type': 'py_semantic',\n",
        "        'satellite_map_key': 'aerial_map/aerial_map.png',\n",
        "        'semantic_map_key': 'semantic_map/semantic_map.pb',\n",
        "        'dataset_meta_key': 'meta.json',\n",
        "        'filter_agents_threshold': 0.5\n",
        "    },\n",
        "    \n",
        "    'train_data_loader': {\n",
        "        'key': 'scenes/train.zarr',\n",
        "        'batch_size': 8,\n",
        "        'shuffle': True,\n",
        "        'num_workers': 4\n",
        "    },\n",
        "    \n",
        "    'train_params': {\n",
        "        'max_num_steps': 25000,\n",
        "        'checkpoint_every_n_steps': 5000,\n",
        "    }\n",
        "}"
      ],
      "execution_count": 3,
      "outputs": []
    },
    {
      "cell_type": "code",
      "metadata": {
        "id": "8m9DIEh8dJth",
        "colab_type": "code",
        "colab": {
          "base_uri": "https://localhost:8080/",
          "height": 54
        },
        "outputId": "804f32c8-3285-45af-a7d1-830e00cc711b"
      },
      "source": [
        "# set env variable for data\n",
        "os.environ[\"L5KIT_DATA_FOLDER\"] = INPUT_DIR\n",
        "dm = LocalDataManager(None)\n",
        "\n",
        "# get config\n",
        "print(cfg)"
      ],
      "execution_count": 7,
      "outputs": [
        {
          "output_type": "stream",
          "text": [
            "{'format_version': 4, 'model_params': {'model_architecture': 'resnet34', 'history_num_frames': 10, 'history_step_size': 1, 'history_delta_time': 0.1, 'future_num_frames': 50, 'future_step_size': 1, 'future_delta_time': 0.1}, 'raster_params': {'raster_size': [300, 300], 'pixel_size': [0.5, 0.5], 'ego_center': [0.25, 0.5], 'map_type': 'py_semantic', 'satellite_map_key': 'aerial_map/aerial_map.png', 'semantic_map_key': 'semantic_map/semantic_map.pb', 'dataset_meta_key': 'meta.json', 'filter_agents_threshold': 0.5}, 'train_data_loader': {'key': 'scenes/train.zarr', 'batch_size': 8, 'shuffle': True, 'num_workers': 4}, 'train_params': {'max_num_steps': 25000, 'checkpoint_every_n_steps': 5000}}\n"
          ],
          "name": "stdout"
        }
      ]
    },
    {
      "cell_type": "code",
      "metadata": {
        "id": "0S_qTDUkeDzn",
        "colab_type": "code",
        "colab": {
          "base_uri": "https://localhost:8080/",
          "height": 121
        },
        "outputId": "aba6afd6-dbee-4a15-9a35-091a78231024"
      },
      "source": [
        "# ===== INIT DATASET\n",
        "train_cfg = cfg[\"train_data_loader\"]\n",
        "\n",
        "# Rasterizer\n",
        "rasterizer = build_rasterizer(cfg, dm)\n",
        "\n",
        "# Train dataset/dataloader\n",
        "train_zarr = ChunkedDataset(dm.require(train_cfg[\"key\"])).open()\n",
        "train_dataset = AgentDataset(cfg, train_zarr, rasterizer)\n",
        "train_dataloader = DataLoader(train_dataset,\n",
        "                              shuffle=train_cfg[\"shuffle\"],\n",
        "                              batch_size=train_cfg[\"batch_size\"],\n",
        "                              num_workers=train_cfg[\"num_workers\"])\n",
        "\n",
        "print(train_dataset)"
      ],
      "execution_count": 8,
      "outputs": [
        {
          "output_type": "stream",
          "text": [
            "+------------+------------+------------+-----------------+----------------------+----------------------+----------------------+---------------------+\n",
            "| Num Scenes | Num Frames | Num Agents | Total Time (hr) | Avg Frames per Scene | Avg Agents per Frame | Avg Scene Time (sec) | Avg Frame frequency |\n",
            "+------------+------------+------------+-----------------+----------------------+----------------------+----------------------+---------------------+\n",
            "|   16265    |  4039527   | 320124624  |      112.19     |        248.36        |        79.25         |        24.83         |        10.00        |\n",
            "+------------+------------+------------+-----------------+----------------------+----------------------+----------------------+---------------------+\n"
          ],
          "name": "stdout"
        }
      ]
    },
    {
      "cell_type": "code",
      "metadata": {
        "id": "Js38uBU3rM9A",
        "colab_type": "code",
        "colab": {
          "base_uri": "https://localhost:8080/",
          "height": 34
        },
        "outputId": "6581cbc7-aa64-4fbc-bcee-dbe960bc485a"
      },
      "source": [
        "gc.collect()"
      ],
      "execution_count": 9,
      "outputs": [
        {
          "output_type": "execute_result",
          "data": {
            "text/plain": [
              "13"
            ]
          },
          "metadata": {
            "tags": []
          },
          "execution_count": 9
        }
      ]
    },
    {
      "cell_type": "code",
      "metadata": {
        "id": "bxZwBHgOeME7",
        "colab_type": "code",
        "colab": {}
      },
      "source": [
        "class LyftModel(nn.Module):\n",
        "    \n",
        "    def __init__(self, cfg: Dict):\n",
        "        super().__init__()\n",
        "        \n",
        "        self.backbone = resnet34(pretrained=True, progress=True)\n",
        "        \n",
        "        num_history_channels = (cfg[\"model_params\"][\"history_num_frames\"] + 1) * 2\n",
        "        num_in_channels = 3 + num_history_channels\n",
        "\n",
        "        self.backbone.conv1 = nn.Conv2d(\n",
        "            num_in_channels,\n",
        "            self.backbone.conv1.out_channels,\n",
        "            kernel_size=self.backbone.conv1.kernel_size,\n",
        "            stride=self.backbone.conv1.stride,\n",
        "            padding=self.backbone.conv1.padding,\n",
        "            bias=False,\n",
        "        )\n",
        "        \n",
        "        # This is 512 for resnet18 and resnet34;\n",
        "        # And it is 2048 for the other resnets\n",
        "        backbone_out_features = 512\n",
        "\n",
        "        # X, Y coords for the future positions (output shape: Bx50x2)\n",
        "        num_targets = 2 * cfg[\"model_params\"][\"future_num_frames\"]\n",
        "\n",
        "        # You can add more layers here.\n",
        "        self.head = nn.Sequential(\n",
        "            # nn.Dropout(0.2),\n",
        "            nn.Linear(in_features=backbone_out_features, out_features=4096),\n",
        "        )\n",
        "\n",
        "        self.logit = nn.Linear(4096, out_features=num_targets)\n",
        "        \n",
        "    def forward(self, x):\n",
        "        x = self.backbone.conv1(x)\n",
        "        x = self.backbone.bn1(x)\n",
        "        x = self.backbone.relu(x)\n",
        "        x = self.backbone.maxpool(x)\n",
        "\n",
        "        x = self.backbone.layer1(x)\n",
        "        x = self.backbone.layer2(x)\n",
        "        x = self.backbone.layer3(x)\n",
        "        x = self.backbone.layer4(x)\n",
        "\n",
        "        x = self.backbone.avgpool(x)\n",
        "        x = torch.flatten(x, 1)\n",
        "        \n",
        "        x = self.head(x)\n",
        "        x = self.logit(x)\n",
        "        \n",
        "        return x"
      ],
      "execution_count": 10,
      "outputs": []
    },
    {
      "cell_type": "code",
      "metadata": {
        "id": "VIrohczriukO",
        "colab_type": "code",
        "colab": {}
      },
      "source": [
        "# ==== INIT MODEL\n",
        "device = torch.device(\"cuda:0\" if torch.cuda.is_available() else \"cpu\")\n",
        "\n",
        "model = LyftModel(cfg)\n",
        "model.to(device)\n",
        "optimizer = optim.Adam(model.parameters(), lr=1e-3)\n",
        "\n",
        "# Later we have to filter the invalid steps.\n",
        "criterion = nn.MSELoss(reduction=\"none\")"
      ],
      "execution_count": 11,
      "outputs": []
    },
    {
      "cell_type": "code",
      "metadata": {
        "id": "uCtN0a1fixlG",
        "colab_type": "code",
        "colab": {
          "base_uri": "https://localhost:8080/",
          "height": 34
        },
        "outputId": "3e743189-f0e3-44d8-d6c3-deaa42800c87"
      },
      "source": [
        "device"
      ],
      "execution_count": 12,
      "outputs": [
        {
          "output_type": "execute_result",
          "data": {
            "text/plain": [
              "device(type='cuda', index=0)"
            ]
          },
          "metadata": {
            "tags": []
          },
          "execution_count": 12
        }
      ]
    },
    {
      "cell_type": "code",
      "metadata": {
        "id": "Ixggmg2yi0ak",
        "colab_type": "code",
        "colab": {
          "base_uri": "https://localhost:8080/",
          "height": 34
        },
        "outputId": "e0e82ce9-612e-429d-807c-d97095cd1f02"
      },
      "source": [
        "# ==== TRAIN LOOP\n",
        "tr_it = iter(train_dataloader)\n",
        "\n",
        "progress_bar = tqdm(range(cfg[\"train_params\"][\"max_num_steps\"]))\n",
        "losses_train = []\n",
        "\n",
        "for itr in progress_bar:\n",
        "\n",
        "    try:\n",
        "        data = next(tr_it)\n",
        "    except StopIteration:\n",
        "        tr_it = iter(train_dataloader)\n",
        "        data = next(tr_it)\n",
        "\n",
        "    model.train()\n",
        "    torch.set_grad_enabled(True)\n",
        "    \n",
        "    # Forward pass\n",
        "    inputs = data[\"image\"].to(device)\n",
        "    target_availabilities = data[\"target_availabilities\"].unsqueeze(-1).to(device)\n",
        "    targets = data[\"target_positions\"].to(device)\n",
        "    \n",
        "    outputs = model(inputs).reshape(targets.shape)\n",
        "    loss = criterion(outputs, targets)\n",
        "\n",
        "    # not all the output steps are valid, but we can filter them out from the loss using availabilities\n",
        "    loss = loss * target_availabilities\n",
        "    loss = loss.mean()\n",
        "\n",
        "    # Backward pass\n",
        "    optimizer.zero_grad()\n",
        "    loss.backward()\n",
        "    optimizer.step()\n",
        "\n",
        "    losses_train.append(loss.item())\n",
        "\n",
        "    if (itr+1) % cfg['train_params']['checkpoint_every_n_steps'] == 0:\n",
        "        torch.save({\n",
        "            'model_state_dict': model.state_dict()}, \n",
        "            f'model_state_{itr}.pth')\n",
        "        files.download(f'model_state_{itr}.pth') \n",
        "        \n",
        "    progress_bar.set_description(f\"loss: {loss.item()} loss(avg): {np.mean(losses_train[-100:])}\")"
      ],
      "execution_count": 13,
      "outputs": [
        {
          "output_type": "stream",
          "text": [
            "loss: 26.541339874267578 loss(avg): 7.056640929058194: 100%|██████████| 25000/25000 [6:29:21<00:00,  1.07it/s]\n"
          ],
          "name": "stderr"
        }
      ]
    },
    {
      "cell_type": "code",
      "metadata": {
        "id": "SJjagdZni-58",
        "colab_type": "code",
        "colab": {}
      },
      "source": [
        "torch.save(model.state_dict(), f'model_state_last.pth')"
      ],
      "execution_count": 14,
      "outputs": []
    }
  ]
}