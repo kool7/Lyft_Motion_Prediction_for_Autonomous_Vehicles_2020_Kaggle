{
  "nbformat": 4,
  "nbformat_minor": 0,
  "metadata": {
    "colab": {
      "name": "Lyft L5 V5 448x448 + KerasTuner",
      "provenance": [],
      "collapsed_sections": [],
      "toc_visible": true,
      "authorship_tag": "ABX9TyNjBVtpRhdiBpw4946xQAiX",
      "include_colab_link": true
    },
    "kernelspec": {
      "name": "python3",
      "display_name": "Python 3"
    }
  },
  "cells": [
    {
      "cell_type": "markdown",
      "metadata": {
        "id": "view-in-github",
        "colab_type": "text"
      },
      "source": [
        "<a href=\"https://colab.research.google.com/github/kool7/Lyft_Motion_Prediction_for_Autonomous_Vehicles_2020_Kaggle/blob/master/colab/multimode/Lyft_L5_V5_448x448_%2B_KerasTuner.ipynb\" target=\"_parent\"><img src=\"https://colab.research.google.com/assets/colab-badge.svg\" alt=\"Open In Colab\"/></a>"
      ]
    },
    {
      "cell_type": "markdown",
      "metadata": {
        "id": "v0veA5kfXXxl"
      },
      "source": [
        "# Introduction\n",
        "\n",
        "This is version 5 of the series of notebooks which I made for training CNN Model for ongoing Kaggle competiton [Lyft Motion Prediction for Autonomous Vehicles](https://www.kaggle.com/c/lyft-motion-prediction-autonomous-vehicles/notebooks). In this version I am going to use **KerasTuner** for tuning my hyperparameters. This is an experimental notebook. \n",
        "\n",
        "### **Tasks Performed**\n",
        "* Using new version of l5kit (1.1.0)\n",
        "* Using KerasTuner to find good model configuration "
      ]
    },
    {
      "cell_type": "code",
      "metadata": {
        "id": "uhNGflrMU9F6",
        "outputId": "e62758aa-2050-44c9-8e2d-5e5ce7152e53",
        "colab": {
          "base_uri": "https://localhost:8080/",
          "height": 34
        }
      },
      "source": [
        "# mount google drive\n",
        "from google.colab import drive\n",
        "drive.mount('/content/drive')"
      ],
      "execution_count": null,
      "outputs": [
        {
          "output_type": "stream",
          "text": [
            "Mounted at /content/drive\n"
          ],
          "name": "stdout"
        }
      ]
    },
    {
      "cell_type": "markdown",
      "metadata": {
        "id": "N7OPTqS9YTuL"
      },
      "source": [
        "# Data Preparation"
      ]
    },
    {
      "cell_type": "code",
      "metadata": {
        "id": "ab9r-X1zYVEb"
      },
      "source": [
        "import os \n",
        "\n",
        "os.makedirs('/content/lyft-motion-prediction-autonomous-vehicles/', exist_ok=True)\n",
        "os.chdir('/content/lyft-motion-prediction-autonomous-vehicles/')\n",
        "\n",
        "%cd '/content/lyft-motion-prediction-autonomous-vehicles/'\n",
        "!pwd"
      ],
      "execution_count": null,
      "outputs": []
    },
    {
      "cell_type": "code",
      "metadata": {
        "id": "dmr7fFj_6ofD"
      },
      "source": [
        "os.makedirs('/content/lyft-motion-prediction-autonomous-vehicles/scenes/', exist_ok=True)\n",
        "os.chdir('/content/lyft-motion-prediction-autonomous-vehicles/scenes/')\n",
        "\n",
        "!wget --header=\"Host: storage.googleapis.com\" --header=\"User-Agent: Mozilla/5.0 (Windows NT 10.0; Win64; x64) AppleWebKit/537.36 (KHTML, like Gecko) Chrome/86.0.4240.75 Safari/537.36\" --header=\"Accept: text/html,application/xhtml+xml,application/xml;q=0.9,image/avif,image/webp,image/apng,*/*;q=0.8,application/signed-exchange;v=b3;q=0.9\" --header=\"Accept-Language: en-US,en;q=0.9\" --header=\"Referer: https://www.kaggle.com/\" --header=\"Cookie: _ga=GA1.3.1723755215.1594569279\" --header=\"Connection: keep-alive\" \"https://storage.googleapis.com/kaggle-competitions-data/kaggle-v2/19990/1472735/compressed/scenes.zip?GoogleAccessId=web-data@kaggle-161607.iam.gserviceaccount.com&Expires=1603187870&Signature=CPLBdNFr4NiHvvfw4ucUxCAPiwFLWgLLAd53HABERiGUNIpo9bxvJf0cWBeBrmJgCWWUfsNtSzbWsfu3Bc7Im5yz5mSk%2Bb29M1mbouNAiVJCI81zu3hyZMYJky1oYKdaA3c%2F0N98PuKuKbUhPQsnJLISm5%2Ftpyx3lLKBRZzOaChOiwULjLV9JFFzLlG9mGAZ9lAWO6I7Jt57AZ7NcmkDCwsPK2bUDxxHHkMW4C7OOAD%2F98jlLL059RVgOfUhMaCcL1KVOkO1CNx0D11B5T8R6zCJgVwy7ThzjqsL7848sCjj8QtiQeK%2BR3jefHdHPQ1CzinecyB44B8TV%2BBqf6vrTw%3D%3D&response-content-disposition=attachment%3B+filename%3Dscenes.zip\" -c -O 'scenes.zip'\n",
        "!unzip ./scenes.zip"
      ],
      "execution_count": null,
      "outputs": []
    },
    {
      "cell_type": "code",
      "metadata": {
        "id": "CwnhP1Q16qYc"
      },
      "source": [
        "%cd '/content/lyft-motion-prediction-autonomous-vehicles/scenes/'\n",
        "!pwd\n",
        "!ls"
      ],
      "execution_count": null,
      "outputs": []
    },
    {
      "cell_type": "code",
      "metadata": {
        "id": "zsLj0ZzT6sr5"
      },
      "source": [
        "%rm -r test.zarr/\n",
        "%rm -r sample.zarr/\n",
        "%rm scenes.zip"
      ],
      "execution_count": null,
      "outputs": []
    },
    {
      "cell_type": "code",
      "metadata": {
        "id": "WQ098sWq6vA8"
      },
      "source": [
        "%cd ..\n",
        "!pwd\n",
        "!ls"
      ],
      "execution_count": null,
      "outputs": []
    },
    {
      "cell_type": "code",
      "metadata": {
        "id": "uyqTaSma6w1j"
      },
      "source": [
        "os.makedirs('/content/lyft-motion-prediction-autonomous-vehicles/aerial_map/', exist_ok=True)\n",
        "os.chdir('/content/lyft-motion-prediction-autonomous-vehicles/aerial_map/')\n",
        "\n",
        "!wget --header=\"Host: storage.googleapis.com\" --header=\"User-Agent: Mozilla/5.0 (Windows NT 10.0; Win64; x64) AppleWebKit/537.36 (KHTML, like Gecko) Chrome/86.0.4240.75 Safari/537.36\" --header=\"Accept: text/html,application/xhtml+xml,application/xml;q=0.9,image/avif,image/webp,image/apng,*/*;q=0.8,application/signed-exchange;v=b3;q=0.9\" --header=\"Accept-Language: en-US,en;q=0.9\" --header=\"Referer: https://www.kaggle.com/\" --header=\"Cookie: _ga=GA1.3.1723755215.1594569279\" --header=\"Connection: keep-alive\" \"https://storage.googleapis.com/kaggle-competitions-data/kaggle-v2/19990/1472735/compressed/aerial_map.zip?GoogleAccessId=web-data@kaggle-161607.iam.gserviceaccount.com&Expires=1603187901&Signature=myvFYuepRzSoGfj2ikbY4BPdamn7NfmkGMQCMFyjWW9KLL2bxWlSQgEsWJjNRZGfKgUf7YYw9Tq598oRQAYsQRpIHeue%2F6skBlOZoeq5Ti1mBok96%2FNgBgQoWUZcPZWIQjDlH9L329d0HSLB%2F4TBn%2BfEgLCC9UNuUVAcEAHQZE1DSkmG2ccTff37DavIewLihhmicVal6irVwmquSDsYLEYkJ6EKHdWHunEdw7yjq6F96%2FoXasoL2wwJq%2FdIZTluBtJ97BYYwikscOb%2FO8VER0pVL3rw1CF8KbS9obHGAWFod6NMPB0KjMcpIAPYfBkBG12mfsE9R%2BCaCYdBqftHJg%3D%3D&response-content-disposition=attachment%3B+filename%3Daerial_map.zip\" -c -O 'aerial_map.zip'\n",
        "!unzip ./aerial_map.zip"
      ],
      "execution_count": null,
      "outputs": []
    },
    {
      "cell_type": "code",
      "metadata": {
        "id": "_yPzm2OZ6y91"
      },
      "source": [
        "%rm -r aerial_map.zip"
      ],
      "execution_count": null,
      "outputs": []
    },
    {
      "cell_type": "code",
      "metadata": {
        "id": "Cmzui2ts60mb"
      },
      "source": [
        "%cd ..\n",
        "!pwd\n",
        "!ls"
      ],
      "execution_count": null,
      "outputs": []
    },
    {
      "cell_type": "code",
      "metadata": {
        "id": "YL-LInn462no"
      },
      "source": [
        "os.makedirs('/content/lyft-motion-prediction-autonomous-vehicles/semantic_map/', exist_ok=True)\n",
        "os.chdir('/content/lyft-motion-prediction-autonomous-vehicles/semantic_map/')\n",
        "\n",
        "!wget --header=\"Host: storage.googleapis.com\" --header=\"User-Agent: Mozilla/5.0 (Windows NT 10.0; Win64; x64) AppleWebKit/537.36 (KHTML, like Gecko) Chrome/86.0.4240.75 Safari/537.36\" --header=\"Accept: text/html,application/xhtml+xml,application/xml;q=0.9,image/avif,image/webp,image/apng,*/*;q=0.8,application/signed-exchange;v=b3;q=0.9\" --header=\"Accept-Language: en-US,en;q=0.9\" --header=\"Referer: https://www.kaggle.com/\" --header=\"Cookie: _ga=GA1.3.1723755215.1594569279\" --header=\"Connection: keep-alive\" \"https://storage.googleapis.com/kaggle-competitions-data/kaggle-v2/19990/1472735/upload/semantic_map.zip?GoogleAccessId=web-data@kaggle-161607.iam.gserviceaccount.com&Expires=1603187927&Signature=WyRPso9IuGsKCpKwB5aVt5sqlk5TJ7F8JKywaDDqyhzJe%2FkHrqLoTOanNg1Y6SHjd0OkyoL%2F0N1F%2FlPKXZAJJ0Cf6gMSRjEYUZS%2BHeadxTgttiKEAwH0UjXEXyBFlmysMX2WVMNjPjVs%2BSs6QDhbt0%2Bnd0nozRCewDefHsR3d9S1WiuciweHH8IvXPCMWXlchl9SqTebKhRjECBBfGgoMAgGKRBkylN%2FN5zFGYlyc14jdnv1Kb2%2FIr6tJ9wTvAfhENkNo4kC0VdeHHUQrWegpIw9%2BxJ27V65w4oexwU0gNEAPDjRYZKRcaXm%2BAJ0dhoP63nTIluGccLYPbZyDxnCNQ%3D%3D&response-content-disposition=attachment%3B+filename%3Dsemantic_map.zip\" -c -O 'semantic_map.zip'\n",
        "!unzip ./semantic_map.zip"
      ],
      "execution_count": null,
      "outputs": []
    },
    {
      "cell_type": "code",
      "metadata": {
        "id": "U8xJmARA64sh"
      },
      "source": [
        "%rm -r semantic_map.zip\n",
        "%cd ..\n",
        "!pwd\n",
        "!ls"
      ],
      "execution_count": null,
      "outputs": []
    },
    {
      "cell_type": "markdown",
      "metadata": {
        "id": "e3ttUkIT66b9"
      },
      "source": [
        "# Installing Dependencies"
      ]
    },
    {
      "cell_type": "code",
      "metadata": {
        "id": "SXhPLd7068XB"
      },
      "source": [
        "# this script transports l5kit and dependencies\n",
        "!pip -q install pymap3d==2.1.0 \n",
        "!pip -q install protobuf==3.12.2 \n",
        "!pip -q install transforms3d \n",
        "!pip -q install zarr \n",
        "!pip -q install ptable\n",
        "\n",
        "# previous version 1.0.6\n",
        "!pip -q install --no-dependencies l5kit\n",
        "\n",
        "# keras tuner\n",
        "!pip install -q -U keras-tuner\n",
        "\n",
        "!pip install -q git+https://github.com/qubvel/classification_models.git"
      ],
      "execution_count": null,
      "outputs": []
    },
    {
      "cell_type": "markdown",
      "metadata": {
        "id": "aTP2zJ9Q8G9r"
      },
      "source": [
        "# Import Packages"
      ]
    },
    {
      "cell_type": "code",
      "metadata": {
        "id": "anntw5Pi7a_A"
      },
      "source": [
        "import os, gc\n",
        "import numpy as np \n",
        "import pandas as pd\n",
        "from tqdm import tqdm\n",
        "import kerastuner as kt\n",
        "from typing import Dict, Callable\n",
        "\n",
        "import tensorflow as tf\n",
        "from tensorflow import Tensor\n",
        "from tensorflow.keras.layers import *\n",
        "from tensorflow.keras.utils import Sequence\n",
        "from tensorflow.keras.preprocessing.image import ImageDataGenerator\n",
        "from tensorflow.keras.models import Model\n",
        "from tensorflow.keras.activations import softmax\n",
        "from tensorflow.keras.optimizers import Adam\n",
        "from classification_models.keras import Classifiers\n",
        "\n",
        "# L5 Toolkit\n",
        "import l5kit\n",
        "from l5kit.data import LocalDataManager, ChunkedDataset\n",
        "from l5kit.dataset import AgentDataset, EgoDataset\n",
        "from l5kit.rasterization import build_rasterizer\n",
        "from l5kit.evaluation import create_chopped_dataset\n",
        "from l5kit.evaluation.chop_dataset import MIN_FUTURE_STEPS"
      ],
      "execution_count": null,
      "outputs": []
    },
    {
      "cell_type": "code",
      "metadata": {
        "id": "ZslrOHCY79Ds"
      },
      "source": [
        "# root directory\n",
        "INPUT_DIR = '/content/lyft-motion-prediction-autonomous-vehicles/'"
      ],
      "execution_count": null,
      "outputs": []
    },
    {
      "cell_type": "markdown",
      "metadata": {
        "id": "pOfG4Q829pmU"
      },
      "source": [
        "# Configuration"
      ]
    },
    {
      "cell_type": "code",
      "metadata": {
        "id": "1NF7TsOL8fcK"
      },
      "source": [
        "cfg = {\n",
        "    'format_version': 4,\n",
        "    'model_params': {\n",
        "        'model_architecture': 'resnet34',\n",
        "        'history_num_frames': 10,\n",
        "        'history_step_size': 1,\n",
        "        'history_delta_time': 0.1,\n",
        "        'future_num_frames': 50,\n",
        "        'future_step_size': 1,\n",
        "        'future_delta_time': 0.1\n",
        "    },\n",
        "\n",
        "    'raster_params': {\n",
        "        'raster_size': [448, 448],\n",
        "        'pixel_size': [0.5, 0.5],\n",
        "        'ego_center': [0.25, 0.5],\n",
        "        'map_type': 'py_semantic',\n",
        "        'satellite_map_key': 'aerial_map/aerial_map.png',\n",
        "        'semantic_map_key': 'semantic_map/semantic_map.pb',\n",
        "        'dataset_meta_key': 'meta.json',\n",
        "        'filter_agents_threshold': 0.5\n",
        "    },\n",
        "    \n",
        "    'train_data_loader': {\n",
        "        'key': 'scenes/train.zarr',\n",
        "        'batch_size': 64,\n",
        "        'shuffle': True,\n",
        "        'num_workers': 0\n",
        "    },\n",
        "    \n",
        "    'train_params': {\n",
        "        'max_num_steps': 100000,\n",
        "        'verbose': 100,\n",
        "    },\n",
        "\n",
        "    'valid_data_loader': {\n",
        "        'key': 'scenes/validate.zarr',\n",
        "        'batch_size': 32,\n",
        "        'shuffle': False,\n",
        "        'num_workers': 0\n",
        "    },\n",
        "\n",
        "    'test_data_loader': {\n",
        "        'key': 'scenes/test.zarr',\n",
        "        'batch_size': 32,\n",
        "        'shuffle': False,\n",
        "        'num_workers': 4\n",
        "    }\n",
        "}"
      ],
      "execution_count": null,
      "outputs": []
    },
    {
      "cell_type": "code",
      "metadata": {
        "id": "a3-FSgnJ9znT",
        "outputId": "a523774c-e85b-4df6-99d9-2ba8c9c5b086",
        "colab": {
          "base_uri": "https://localhost:8080/",
          "height": 54
        }
      },
      "source": [
        "# set env variable for data\n",
        "os.environ[\"L5KIT_DATA_FOLDER\"] = INPUT_DIR\n",
        "dm = LocalDataManager(None)\n",
        "\n",
        "# get config\n",
        "print(cfg)"
      ],
      "execution_count": null,
      "outputs": [
        {
          "output_type": "stream",
          "text": [
            "{'format_version': 4, 'model_params': {'model_architecture': 'resnet34', 'history_num_frames': 10, 'history_step_size': 1, 'history_delta_time': 0.1, 'future_num_frames': 50, 'future_step_size': 1, 'future_delta_time': 0.1}, 'raster_params': {'raster_size': [448, 448], 'pixel_size': [0.5, 0.5], 'ego_center': [0.25, 0.5], 'map_type': 'py_semantic', 'satellite_map_key': 'aerial_map/aerial_map.png', 'semantic_map_key': 'semantic_map/semantic_map.pb', 'dataset_meta_key': 'meta.json', 'filter_agents_threshold': 0.5}, 'train_data_loader': {'key': 'scenes/train.zarr', 'batch_size': 64, 'shuffle': True, 'num_workers': 0}, 'train_params': {'max_num_steps': 100000, 'verbose': 100}, 'valid_data_loader': {'key': 'scenes/validate.zarr', 'batch_size': 32, 'shuffle': False, 'num_workers': 0}, 'test_data_loader': {'key': 'scenes/test.zarr', 'batch_size': 32, 'shuffle': False, 'num_workers': 4}}\n"
          ],
          "name": "stdout"
        }
      ]
    },
    {
      "cell_type": "markdown",
      "metadata": {
        "id": "VXVJokzr934B"
      },
      "source": [
        "# Keras DataGenerator"
      ]
    },
    {
      "cell_type": "code",
      "metadata": {
        "id": "8CfvMBdZ91_9"
      },
      "source": [
        "# rasterizercfg, dm\n",
        "rasterizer = build_rasterizer(cfg, dm)\n",
        "\n",
        "# Train dataset/dataloader\n",
        "train_cfg = cfg[\"train_data_loader\"]\n",
        "train_zarr = ChunkedDataset(dm.require(train_cfg[\"key\"])).open()\n",
        "train_dataset = AgentDataset(cfg, train_zarr, rasterizer)"
      ],
      "execution_count": null,
      "outputs": []
    },
    {
      "cell_type": "code",
      "metadata": {
        "id": "sHuDh0LNSyPJ"
      },
      "source": [
        "train_loader = ImageDataGenerator()"
      ],
      "execution_count": null,
      "outputs": []
    },
    {
      "cell_type": "markdown",
      "metadata": {
        "id": "X_5RaECVOb_u"
      },
      "source": [
        "# Loss Function"
      ]
    },
    {
      "cell_type": "code",
      "metadata": {
        "id": "0tGlQFUzUU4N"
      },
      "source": [
        "def negativeLogLikelihood(gt: Tensor, pred: Tensor, confidences: Tensor, avails: Tensor):\n",
        "\n",
        "  '''\n",
        "  Description\n",
        "  -------------------------------\n",
        "  Compute Negative log-likelihood\n",
        "\n",
        "  Arguments:\n",
        "  gt -- array of shape (time)x(2D coords)\n",
        "  pred -- array of shape (modes)x(time)x(2D coords)\n",
        "  confidences -- array of shape (modes) with a confidence for each mode in each sample\n",
        "  avails -- array of shape (time) with the availability for each gt timestep\n",
        "\n",
        "  Returns:\n",
        "  error -- negative log-likelihood (floating number)\n",
        "  '''\n",
        "\n",
        "  assert len(pred.shape) == 4, f\"expected 3D (MxTxC) array for pred, got {pred.shape}\"\n",
        "  batch_size, num_modes, future_len, num_coords = pred.shape\n",
        "  \n",
        "  assert gt.shape == (batch_size, future_len, num_coords), f\"expected 2D (Time x Coords) array for gt, got {gt.shape}\"\n",
        "  assert confidences.shape == (batch_size, num_modes), f\"expected 1D (Modes) array for gt, got {confidences.shape}\"\n",
        "  assert torch.allclose(torch.sum(confidences, dim=1), confidences.new_ones((batch_size,))), \"confidences should sum to 1\"\n",
        "  assert avails.shape == (batch_size, future_len), f\"expected 1D (Time) array for gt, got {avails.shape}\"\n",
        "  \n",
        "  # assert all data are valid\n",
        "  assert torch.isfinite(pred).all(), \"invalid value found in pred\"\n",
        "  assert torch.isfinite(gt).all(), \"invalid value found in gt\"\n",
        "  assert torch.isfinite(confidences).all(), \"invalid value found in confidences\"\n",
        "  assert torch.isfinite(avails).all(), \"invalid value found in avails\"\n",
        "\n",
        "  gt = torch.unsqueeze(gt, 1) \n",
        "  avails = avails[:, None, :, None]\n",
        "  error = torch.sum(((gt - pred) * avails) ** 2, dim=-1) \n",
        "\n",
        "  with np.errstate(divide=\"ignore\"): \n",
        "      error = torch.log(confidences) - 0.5 * torch.sum(error, dim = -1)\n",
        "\n",
        "  max_value, _ = error.max(dim = 1, keepdim = True) \n",
        "  error = -torch.log(torch.sum(torch.exp(error - max_value), dim = -1, keepdim=True)) - max_value\n",
        "  return torch.mean(error)"
      ],
      "execution_count": null,
      "outputs": []
    },
    {
      "cell_type": "markdown",
      "metadata": {
        "id": "-fqmLSLTdDGi"
      },
      "source": [
        "# Optimizer"
      ]
    },
    {
      "cell_type": "code",
      "metadata": {
        "id": "Dd8HQI_ndFfT"
      },
      "source": [
        "optimizer = Adam(0.0005)"
      ],
      "execution_count": null,
      "outputs": []
    },
    {
      "cell_type": "markdown",
      "metadata": {
        "id": "roU0laydN-Od"
      },
      "source": [
        "# Model"
      ]
    },
    {
      "cell_type": "code",
      "metadata": {
        "id": "7NGTAhjO3VcL"
      },
      "source": [
        "def model():\n",
        "\n",
        "  ResNet18, preprocess_input = Classifiers.get('resnet18')\n",
        "  base = ResNet18((224, 224, 3), weights=None, include_top=False)\n",
        "\n",
        "  inp = Input(shape=(224,224,25))\n",
        "  conv1 = Conv2D(3,kernel_size=3,use_bias=False,padding=\"same\")(inp)\n",
        "  x = base(conv1)\n",
        "  x = tf.keras.layers.GlobalAveragePooling2D()(x)\n",
        "  out = Dense(100, activation='softmax',name='out',dtype='float32')(x)\n",
        "  out = out * 3\n",
        "  modes = 3\n",
        "  model = Model(inp, out + 3)\n",
        "  return model, out, modes"
      ],
      "execution_count": null,
      "outputs": []
    },
    {
      "cell_type": "code",
      "metadata": {
        "id": "LQf11nELrIwa"
      },
      "source": [
        "class LyftMultiMode(Model):\n",
        "  \n",
        "  def __init__(self, cfg, model, mode = 3):\n",
        "    super(LyftMultiMode, self).__init__()\n",
        "    self.model = model\n",
        "    \n",
        "  def compile(self, loss, optimizer):\n",
        "    super(LyftMultiMode, self).compile()\n",
        "    self.loss = loss\n",
        "    self.optim = optimizer\n",
        "\n",
        "  def train_step(self, data):\n",
        "    data = train_loader.flow(train_dataset,\n",
        "                             batch_size = 32)\n",
        "    with tf.GradientTape(persistent=True) as tape:\n",
        "      inputs = data[\"image\"]\n",
        "      target_availabilities = data[\"target_availabilities\"]\n",
        "      targets = data[\"target_positions\"]\n",
        "\n",
        "      outputs, num_preds, num_modes = self.model(inputs, training=True)\n",
        "\n",
        "      bs, _ = outputs.shape\n",
        "      pred, confidences = tf.split(x, num_preds, axis=1)\n",
        "      pred = pred.view(bs, num_modes, cfg[\"model_params\"][\"future_num_frames\"], 2)\n",
        "      assert confidences.shape == (bs, num_modes)\n",
        "      confidences = softmax(confidences, axis=1)\n",
        "\n",
        "      loss = loss(targets, preds, confidences, target_availabilities)\n",
        "\n",
        "    # compute gradients\n",
        "    gradients = tape.gradient(loss, self.model.trainable_variables)\n",
        "\n",
        "    # Update weights\n",
        "    self.optim.apply_gradients(zip(gradients, self.model.trainable_variables))\n",
        "\n",
        "    return loss"
      ],
      "execution_count": null,
      "outputs": []
    },
    {
      "cell_type": "code",
      "metadata": {
        "id": "e1Ab_VS-bZKM"
      },
      "source": [
        "Lyftmodel = LyftMultiMode(cfg, model)"
      ],
      "execution_count": null,
      "outputs": []
    },
    {
      "cell_type": "code",
      "metadata": {
        "id": "bxHnNweBgTDr"
      },
      "source": [
        "Lyftmodel.compile(negativeLogLikelihood, optimizer)"
      ],
      "execution_count": null,
      "outputs": []
    },
    {
      "cell_type": "code",
      "metadata": {
        "id": "4uHV7uUFgq3N"
      },
      "source": [
        "Lyftmodel.fit(train_loader.flow(train_dataset),\n",
        "              batch_size=2)"
      ],
      "execution_count": null,
      "outputs": []
    },
    {
      "cell_type": "code",
      "metadata": {
        "id": "f700peO0h6C6"
      },
      "source": [
        ""
      ],
      "execution_count": null,
      "outputs": []
    }
  ]
}